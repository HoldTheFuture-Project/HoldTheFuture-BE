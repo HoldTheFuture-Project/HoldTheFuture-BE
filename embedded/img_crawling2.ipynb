{
  "nbformat": 4,
  "nbformat_minor": 0,
  "metadata": {
    "colab": {
      "private_outputs": true,
      "provenance": []
    },
    "kernelspec": {
      "name": "python3",
      "display_name": "Python 3"
    },
    "language_info": {
      "name": "python"
    }
  },
  "cells": [
    {
      "cell_type": "code",
      "execution_count": null,
      "metadata": {
        "id": "fckP3DDiUlX7"
      },
      "outputs": [],
      "source": [
        "from bs4 import BeautifulSoup"
      ]
    },
    {
      "cell_type": "code",
      "source": [
        "html = \"\"\"\n",
        "<html><body>\n",
        "<h1 id = 'title'>python</h1>\n",
        "<p id = 'p1'>hello</p>\n",
        "<p id = 'p2'>world</p>\n",
        "</body></html>\n",
        "\"\"\""
      ],
      "metadata": {
        "id": "CFihZISWUqry"
      },
      "execution_count": null,
      "outputs": []
    },
    {
      "cell_type": "code",
      "source": [
        "# BeautifulSoup 객체 생성\n",
        "soup = BeautifulSoup(html,'html.parser')\n",
        "\n",
        "# find method 호출\n",
        "h1 = soup.find(id='title')\n",
        "p1 = soup.find(id='p1')\n",
        "p2 = soup.find(id='p2')\n",
        "\n",
        "print(h1.string)"
      ],
      "metadata": {
        "id": "jWvHjwYXx0-X"
      },
      "execution_count": null,
      "outputs": []
    },
    {
      "cell_type": "markdown",
      "source": [
        "**!여기부터 동적페이지 이미지 크롤링**"
      ],
      "metadata": {
        "id": "Wt4hweD7zStl"
      }
    },
    {
      "cell_type": "code",
      "source": [
        "!pip install selenium"
      ],
      "metadata": {
        "id": "pp5ctEY4yr-t"
      },
      "execution_count": null,
      "outputs": []
    },
    {
      "cell_type": "code",
      "source": [
        "from selenium import webdriver\n",
        "from urllib.parse import quote_plus\n",
        "import time"
      ],
      "metadata": {
        "id": "cW3BHYMLyyUp"
      },
      "execution_count": null,
      "outputs": []
    },
    {
      "cell_type": "markdown",
      "source": [],
      "metadata": {
        "id": "cNxqidfEUaHC"
      }
    },
    {
      "cell_type": "code",
      "source": [
        "# 필요한 옵션 선정\n",
        "chrome_options = webdriver.ChromeOptions()\n",
        "chrome_options.add_argument('--headless')\n",
        "chrome_options.add_argument('--no-sandbox')\n",
        "chrome_options.add_argument('--disable-dev-shm-usage')\n",
        "\n"
      ],
      "metadata": {
        "id": "e90PAvpjy2lh"
      },
      "execution_count": null,
      "outputs": []
    },
    {
      "cell_type": "markdown",
      "source": [
        "----------------구글 이미지 크롤링-------------------"
      ],
      "metadata": {
        "id": "rL4VmC1fUcWV"
      }
    },
    {
      "cell_type": "code",
      "source": [
        "pip install selenium && pip install requests"
      ],
      "metadata": {
        "id": "sxMehulkUh4r"
      },
      "execution_count": null,
      "outputs": []
    },
    {
      "cell_type": "code",
      "source": [
        "!git clone https://github.com/mtinet/googleImageDownloader"
      ],
      "metadata": {
        "id": "nTC8pPixq8fU"
      },
      "execution_count": null,
      "outputs": []
    },
    {
      "cell_type": "code",
      "source": [],
      "metadata": {
        "id": "30QJk9qvrKaN"
      },
      "execution_count": null,
      "outputs": []
    },
    {
      "cell_type": "code",
      "source": [
        "import os\n",
        "current_directory = os.getcwd()\n",
        "print(current_directory)"
      ],
      "metadata": {
        "id": "UMyLa--gpR9U"
      },
      "execution_count": null,
      "outputs": []
    },
    {
      "cell_type": "code",
      "source": [
        "from selenium import webdriver\n",
        "from selenium.webdriver.common.keys import Keys\n",
        "import time\n",
        "import urllib.request\n",
        "\n",
        "chrome_path = './chrome.exe'\n",
        "driver = webdriver.Chrome(chrome_path)\n",
        "driver.get(\"https://www.google.co.kr/?hl=ko\")\n",
        "elem = driver.find_element_by_name(\"q\")\n",
        "elem.send_keys(\"플라스틱 컵\")\n",
        "elem.send_keys(Keys.RETURN)\n",
        "\n",
        "SCROLL_PAUSE_TIME = 1\n",
        "# Get scroll height\n",
        "last_height = driver.execute_script(\"return document.body.scrollHeight\")\n",
        "while True:\n",
        "    # Scroll down to bottom\n",
        "    driver.execute_script(\"window.scrollTo(0, document.body.scrollHeight);\")\n",
        "    # Wait to load page\n",
        "    time.sleep(SCROLL_PAUSE_TIME)\n",
        "    # Calculate new scroll height and compare with last scroll height\n",
        "    new_height = driver.execute_script(\"return document.body.scrollHeight\")\n",
        "    if new_height == last_height:\n",
        "        try:\n",
        "            driver.find_element_by_css_selector(\".mye4qd\").click()\n",
        "        except:\n",
        "            break\n",
        "    last_height = new_height\n",
        "\n",
        "images = driver.find_elements_by_css_selector(\".rg_i.Q4LuWd\")\n",
        "count = 1\n",
        "for image in images:\n",
        "    try:\n",
        "        image.click()\n",
        "        time.sleep(2)\n",
        "        imgUrl = driver.find_element_by_xpath('/html/body/div[2]/c-wiz/div[3]/div[2]/div[3]/div/div/div[3]/div[2]/c-wiz/div[1]/div[1]/div/div[2]/a/img').get_attribute(\"src\")\n",
        "        opener=urllib.request.build_opener()\n",
        "        opener.addheaders=[('User-Agent','Mozilla/5.0 (Windows NT 6.1; WOW64) AppleWebKit/537.36 (KHTML, like Gecko) Chrome/36.0.1941.0 Safari/537.36')]\n",
        "        urllib.request.install_opener(opener)\n",
        "        urllib.request.urlretrieve(imgUrl, str(count) + \".jpg\")\n",
        "        count = count + 1\n",
        "    except:\n",
        "        pass\n",
        "\n",
        "driver.close()"
      ],
      "metadata": {
        "id": "2uaLYlK7Ufr_"
      },
      "execution_count": null,
      "outputs": []
    },
    {
      "cell_type": "code",
      "source": [
        "pip install --upgrade git+https://github.com/Joeclinton1/google-images-download.git"
      ],
      "metadata": {
        "id": "37OJdHGOWMN8"
      },
      "execution_count": null,
      "outputs": []
    },
    {
      "cell_type": "code",
      "source": [
        "!googleimagesdownload --keywords \"plastic cup\" --limit 200 --format png --output_directory dataset -cd ./chromedriver.exe"
      ],
      "metadata": {
        "id": "vqYT8a_uG_Ld"
      },
      "execution_count": null,
      "outputs": []
    },
    {
      "cell_type": "code",
      "source": [],
      "metadata": {
        "id": "NsB1F06TJQ4p"
      },
      "execution_count": null,
      "outputs": []
    }
  ]
}